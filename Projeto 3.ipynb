{
 "cells": [
  {
   "cell_type": "code",
   "execution_count": 409,
   "id": "2645d7df",
   "metadata": {},
   "outputs": [],
   "source": [
    "import pandas as pd\n",
    "import numpy as np \n",
    "\n",
    "from sklearn import linear_model as lm\n",
    "from sklearn import model_selection as ms \n",
    "from sklearn import metrics as m "
   ]
  },
  {
   "cell_type": "code",
   "execution_count": 1057,
   "id": "0fae4cc9",
   "metadata": {},
   "outputs": [],
   "source": [
    "dados = pd.read_excel('')"
   ]
  },
  {
   "cell_type": "code",
   "execution_count": 1158,
   "id": "fd64e118",
   "metadata": {},
   "outputs": [],
   "source": [
    "X = dados[['END_GROUP_VALUE','CUSTO_ETTJ','CUSTO_OPERACIONAL','TAXA_TRANSF']]\n",
    "\n",
    "Y = dados['PRECO FINAL']"
   ]
  },
  {
   "cell_type": "code",
   "execution_count": 1159,
   "id": "2fe0ec4d",
   "metadata": {},
   "outputs": [],
   "source": [
    "x_train, x_test, y_train, y_test = ms.train_test_split( X, Y, test_size = 0.2, random_state=42)"
   ]
  },
  {
   "cell_type": "code",
   "execution_count": 1160,
   "id": "c8f9426b",
   "metadata": {},
   "outputs": [
    {
     "data": {
      "text/html": [
       "<style>#sk-container-id-99 {color: black;background-color: white;}#sk-container-id-99 pre{padding: 0;}#sk-container-id-99 div.sk-toggleable {background-color: white;}#sk-container-id-99 label.sk-toggleable__label {cursor: pointer;display: block;width: 100%;margin-bottom: 0;padding: 0.3em;box-sizing: border-box;text-align: center;}#sk-container-id-99 label.sk-toggleable__label-arrow:before {content: \"▸\";float: left;margin-right: 0.25em;color: #696969;}#sk-container-id-99 label.sk-toggleable__label-arrow:hover:before {color: black;}#sk-container-id-99 div.sk-estimator:hover label.sk-toggleable__label-arrow:before {color: black;}#sk-container-id-99 div.sk-toggleable__content {max-height: 0;max-width: 0;overflow: hidden;text-align: left;background-color: #f0f8ff;}#sk-container-id-99 div.sk-toggleable__content pre {margin: 0.2em;color: black;border-radius: 0.25em;background-color: #f0f8ff;}#sk-container-id-99 input.sk-toggleable__control:checked~div.sk-toggleable__content {max-height: 200px;max-width: 100%;overflow: auto;}#sk-container-id-99 input.sk-toggleable__control:checked~label.sk-toggleable__label-arrow:before {content: \"▾\";}#sk-container-id-99 div.sk-estimator input.sk-toggleable__control:checked~label.sk-toggleable__label {background-color: #d4ebff;}#sk-container-id-99 div.sk-label input.sk-toggleable__control:checked~label.sk-toggleable__label {background-color: #d4ebff;}#sk-container-id-99 input.sk-hidden--visually {border: 0;clip: rect(1px 1px 1px 1px);clip: rect(1px, 1px, 1px, 1px);height: 1px;margin: -1px;overflow: hidden;padding: 0;position: absolute;width: 1px;}#sk-container-id-99 div.sk-estimator {font-family: monospace;background-color: #f0f8ff;border: 1px dotted black;border-radius: 0.25em;box-sizing: border-box;margin-bottom: 0.5em;}#sk-container-id-99 div.sk-estimator:hover {background-color: #d4ebff;}#sk-container-id-99 div.sk-parallel-item::after {content: \"\";width: 100%;border-bottom: 1px solid gray;flex-grow: 1;}#sk-container-id-99 div.sk-label:hover label.sk-toggleable__label {background-color: #d4ebff;}#sk-container-id-99 div.sk-serial::before {content: \"\";position: absolute;border-left: 1px solid gray;box-sizing: border-box;top: 0;bottom: 0;left: 50%;z-index: 0;}#sk-container-id-99 div.sk-serial {display: flex;flex-direction: column;align-items: center;background-color: white;padding-right: 0.2em;padding-left: 0.2em;position: relative;}#sk-container-id-99 div.sk-item {position: relative;z-index: 1;}#sk-container-id-99 div.sk-parallel {display: flex;align-items: stretch;justify-content: center;background-color: white;position: relative;}#sk-container-id-99 div.sk-item::before, #sk-container-id-99 div.sk-parallel-item::before {content: \"\";position: absolute;border-left: 1px solid gray;box-sizing: border-box;top: 0;bottom: 0;left: 50%;z-index: -1;}#sk-container-id-99 div.sk-parallel-item {display: flex;flex-direction: column;z-index: 1;position: relative;background-color: white;}#sk-container-id-99 div.sk-parallel-item:first-child::after {align-self: flex-end;width: 50%;}#sk-container-id-99 div.sk-parallel-item:last-child::after {align-self: flex-start;width: 50%;}#sk-container-id-99 div.sk-parallel-item:only-child::after {width: 0;}#sk-container-id-99 div.sk-dashed-wrapped {border: 1px dashed gray;margin: 0 0.4em 0.5em 0.4em;box-sizing: border-box;padding-bottom: 0.4em;background-color: white;}#sk-container-id-99 div.sk-label label {font-family: monospace;font-weight: bold;display: inline-block;line-height: 1.2em;}#sk-container-id-99 div.sk-label-container {text-align: center;}#sk-container-id-99 div.sk-container {/* jupyter's `normalize.less` sets `[hidden] { display: none; }` but bootstrap.min.css set `[hidden] { display: none !important; }` so we also need the `!important` here to be able to override the default hidden behavior on the sphinx rendered scikit-learn.org. See: https://github.com/scikit-learn/scikit-learn/issues/21755 */display: inline-block !important;position: relative;}#sk-container-id-99 div.sk-text-repr-fallback {display: none;}</style><div id=\"sk-container-id-99\" class=\"sk-top-container\"><div class=\"sk-text-repr-fallback\"><pre>LinearRegression()</pre><b>In a Jupyter environment, please rerun this cell to show the HTML representation or trust the notebook. <br />On GitHub, the HTML representation is unable to render, please try loading this page with nbviewer.org.</b></div><div class=\"sk-container\" hidden><div class=\"sk-item\"><div class=\"sk-estimator sk-toggleable\"><input class=\"sk-toggleable__control sk-hidden--visually\" id=\"sk-estimator-id-99\" type=\"checkbox\" checked><label for=\"sk-estimator-id-99\" class=\"sk-toggleable__label sk-toggleable__label-arrow\">LinearRegression</label><div class=\"sk-toggleable__content\"><pre>LinearRegression()</pre></div></div></div></div></div>"
      ],
      "text/plain": [
       "LinearRegression()"
      ]
     },
     "execution_count": 1160,
     "metadata": {},
     "output_type": "execute_result"
    }
   ],
   "source": [
    "model_lr = lm.LinearRegression()\n",
    "\n",
    "model_lr.fit( x_train, y_train )"
   ]
  },
  {
   "cell_type": "code",
   "execution_count": 1161,
   "id": "9413093d",
   "metadata": {},
   "outputs": [],
   "source": [
    "pred_test = model_lr.predict( x_test)\n",
    "pred_train = model_lr.predict( x_train)"
   ]
  },
  {
   "cell_type": "code",
   "execution_count": 1162,
   "id": "562aa9bb",
   "metadata": {},
   "outputs": [],
   "source": [
    "mae_train = m.mean_absolute_error( y_train, pred_train )\n",
    "mape_train = np.mean( np.abs( ( y_train - pred_train ) / y_train ) )\n",
    "\n",
    "mae_test = m.mean_absolute_error( y_test, pred_test )\n",
    "mape_test = np.mean( np.abs( ( y_test - pred_test ) / y_test ) )"
   ]
  },
  {
   "cell_type": "code",
   "execution_count": 1163,
   "id": "39b5412b",
   "metadata": {},
   "outputs": [
    {
     "data": {
      "text/html": [
       "<div>\n",
       "<style scoped>\n",
       "    .dataframe tbody tr th:only-of-type {\n",
       "        vertical-align: middle;\n",
       "    }\n",
       "\n",
       "    .dataframe tbody tr th {\n",
       "        vertical-align: top;\n",
       "    }\n",
       "\n",
       "    .dataframe thead th {\n",
       "        text-align: right;\n",
       "    }\n",
       "</style>\n",
       "<table border=\"1\" class=\"dataframe\">\n",
       "  <thead>\n",
       "    <tr style=\"text-align: right;\">\n",
       "      <th></th>\n",
       "      <th>Dataframe</th>\n",
       "      <th>MAE</th>\n",
       "      <th>MAPE</th>\n",
       "    </tr>\n",
       "  </thead>\n",
       "  <tbody>\n",
       "    <tr>\n",
       "      <th>0</th>\n",
       "      <td>training</td>\n",
       "      <td>17.14781</td>\n",
       "      <td>0.002435</td>\n",
       "    </tr>\n",
       "    <tr>\n",
       "      <th>1</th>\n",
       "      <td>test</td>\n",
       "      <td>17.09811</td>\n",
       "      <td>0.002440</td>\n",
       "    </tr>\n",
       "  </tbody>\n",
       "</table>\n",
       "</div>"
      ],
      "text/plain": [
       "  Dataframe       MAE      MAPE\n",
       "0  training  17.14781  0.002435\n",
       "1      test  17.09811  0.002440"
      ]
     },
     "execution_count": 1163,
     "metadata": {},
     "output_type": "execute_result"
    }
   ],
   "source": [
    "data = {\n",
    "    'Dataframe': ['training', 'test'],\n",
    "    'MAE': [mae_train, mae_test],\n",
    "    'MAPE':[mape_train, mape_test] }\n",
    "\n",
    "pd.DataFrame( data )"
   ]
  },
  {
   "cell_type": "code",
   "execution_count": 1164,
   "id": "0630a6a5",
   "metadata": {
    "scrolled": true
   },
   "outputs": [
    {
     "data": {
      "text/plain": [
       "17.147809885303303"
      ]
     },
     "execution_count": 1164,
     "metadata": {},
     "output_type": "execute_result"
    }
   ],
   "source": [
    "mae_train"
   ]
  },
  {
   "cell_type": "code",
   "execution_count": 1165,
   "id": "71fd8d48",
   "metadata": {
    "scrolled": true
   },
   "outputs": [
    {
     "data": {
      "text/plain": [
       "17.09810971629719"
      ]
     },
     "execution_count": 1165,
     "metadata": {},
     "output_type": "execute_result"
    }
   ],
   "source": [
    "mae_test"
   ]
  },
  {
   "cell_type": "code",
   "execution_count": 1166,
   "id": "336902cc",
   "metadata": {
    "scrolled": true
   },
   "outputs": [
    {
     "data": {
      "text/plain": [
       "0.002435236781101749"
      ]
     },
     "execution_count": 1166,
     "metadata": {},
     "output_type": "execute_result"
    }
   ],
   "source": [
    "mape_train"
   ]
  },
  {
   "cell_type": "code",
   "execution_count": 1167,
   "id": "840ea74a",
   "metadata": {},
   "outputs": [
    {
     "data": {
      "text/plain": [
       "0.0024399025022900527"
      ]
     },
     "execution_count": 1167,
     "metadata": {},
     "output_type": "execute_result"
    }
   ],
   "source": [
    "mape_test"
   ]
  },
  {
   "cell_type": "code",
   "execution_count": 1168,
   "id": "94909e8f",
   "metadata": {},
   "outputs": [
    {
     "name": "stdout",
     "output_type": "stream",
     "text": [
      "Your Test was successfully saved!\n"
     ]
    }
   ],
   "source": [
    "base_simulacao = pd.read_excel(\"\")\n",
    "\n",
    "valores_x = pd.DataFrame(base_simulacao) \n",
    "preco = model_lr.predict(valores_x)\n",
    "preco = preco.round(2)\n",
    "\n",
    "output = pd.DataFrame({'Simulacao': preco})\n",
    "output.to_excel('Test_V2.xlsx', index=True)\n",
    "print(\"Your Test was successfully saved!\")"
   ]
  },
  {
   "cell_type": "code",
   "execution_count": null,
   "id": "ed4a3605",
   "metadata": {},
   "outputs": [],
   "source": []
  }
 ],
 "metadata": {
  "kernelspec": {
   "display_name": "Python 3 (ipykernel)",
   "language": "python",
   "name": "python3"
  },
  "language_info": {
   "codemirror_mode": {
    "name": "ipython",
    "version": 3
   },
   "file_extension": ".py",
   "mimetype": "text/x-python",
   "name": "python",
   "nbconvert_exporter": "python",
   "pygments_lexer": "ipython3",
   "version": "3.9.7"
  }
 },
 "nbformat": 4,
 "nbformat_minor": 5
}
